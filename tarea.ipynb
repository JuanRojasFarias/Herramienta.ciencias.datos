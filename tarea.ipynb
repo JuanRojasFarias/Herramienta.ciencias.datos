{
 "cells": [
  {
   "cell_type": "code",
   "execution_count": 8,
   "id": "3785d2e7-f3fc-4b19-a52d-ce5ea1aa631d",
   "metadata": {},
   "outputs": [],
   "source": [
    "# Proyecto Final: Herramientas de Ciencia de Datos\n",
    "## Introducción este cuaderno es un breve resumen"
   ]
  },
  {
   "cell_type": "code",
   "execution_count": null,
   "id": "bc517e7e-320f-4dbc-bb7f-276437197969",
   "metadata": {},
   "outputs": [],
   "source": [
    "### Lenguajes de Ciencia de Datos  \n",
    "- Python  \n",
    "- R  \n",
    "- SQL  "
   ]
  },
  {
   "cell_type": "code",
   "execution_count": null,
   "id": "a3d48bc8-4429-466d-8b10-25664ea21568",
   "metadata": {},
   "outputs": [],
   "source": [
    "### Bibliotecas Populares  \n",
    "- Pandas (manipulación de datos)  \n",
    "- NumPy (cálculos numéricos)  \n",
    "- Scikit-learn (machine learning)  \n",
    "- Matplotlib (visualización)  "
   ]
  },
  {
   "cell_type": "code",
   "execution_count": null,
   "id": "cd023254-5605-46fa-b3fe-2a16208aab57",
   "metadata": {},
   "outputs": [],
   "source": [
    "### Bibliotecas Populares  \n",
    "- Pandas (manipulación de datos)  \n",
    "- NumPy (cálculos numéricos)  \n",
    "- Scikit-learn (machine learning)  \n",
    "- Matplotlib (visualización)  "
   ]
  },
  {
   "cell_type": "code",
   "execution_count": null,
   "id": "7aaef483-8513-4713-9985-8d69746c2a42",
   "metadata": {},
   "outputs": [],
   "source": [
    "| Herramienta          | Uso Principal               |\n",
    "|----------------------|-----------------------------|\n",
    "| Jupyter Notebook     | Análisis interactivo        |\n",
    "| GitHub               | Control de versiones        |\n",
    "| Tableau              | Visualización de datos      |"
   ]
  },
  {
   "cell_type": "code",
   "execution_count": 3,
   "id": "de4e3580-a46a-40bc-b158-229d03e72ca4",
   "metadata": {},
   "outputs": [
    {
     "name": "stdout",
     "output_type": "stream",
     "text": [
      "3 + 5 = 8\n",
      "4 * 6 = 24\n"
     ]
    }
   ],
   "source": [
    "# Ejemplo de suma\n",
    "print(\"3 + 5 =\", 3 + 5)\n",
    "\n",
    "# Ejemplo de multiplicación\n",
    "print(\"4 * 6 =\", 4 * 6)"
   ]
  },
  {
   "cell_type": "code",
   "execution_count": 4,
   "id": "0d1d7aaa-b68a-4b21-ac32-2e33d1b750eb",
   "metadata": {},
   "outputs": [
    {
     "name": "stdout",
     "output_type": "stream",
     "text": [
      "Suma: 8 | Multiplicación: 24\n"
     ]
    }
   ],
   "source": [
    "# Suma y multiplicación\n",
    "a = 5 + 3\n",
    "b = 4 * 6\n",
    "print(\"Suma:\", a, \"| Multiplicación:\", b)"
   ]
  },
  {
   "cell_type": "code",
   "execution_count": 5,
   "id": "9e7dfd7e-2228-45cc-a619-32a0a8088a31",
   "metadata": {},
   "outputs": [
    {
     "name": "stdout",
     "output_type": "stream",
     "text": [
      "150 minutos = 2.5 horas\n"
     ]
    }
   ],
   "source": [
    "minutos = 150\n",
    "horas = minutos / 60\n",
    "print(f\"{minutos} minutos = {horas} horas\")"
   ]
  },
  {
   "cell_type": "code",
   "execution_count": null,
   "id": "08fef0ad-11db-40bd-b99d-d3e22d08f620",
   "metadata": {},
   "outputs": [],
   "source": [
    "### Objetivos  \n",
    "- Aprender herramientas clave.  \n",
    "- Practicar análisis de datos.  "
   ]
  },
  {
   "cell_type": "code",
   "execution_count": 9,
   "id": "b1509967-0598-4110-8f01-93ab89ddd9fb",
   "metadata": {},
   "outputs": [
    {
     "ename": "SyntaxError",
     "evalue": "invalid syntax (2269953319.py, line 1)",
     "output_type": "error",
     "traceback": [
      "\u001b[0;36m  Cell \u001b[0;32mIn[9], line 1\u001b[0;36m\u001b[0m\n\u001b[0;31m    **Autor:Juan rojas farias**\u001b[0m\n\u001b[0m    ^\u001b[0m\n\u001b[0;31mSyntaxError\u001b[0m\u001b[0;31m:\u001b[0m invalid syntax\n"
     ]
    }
   ],
   "source": [
    "##Autor:Juan rojas farias"
   ]
  },
  {
   "cell_type": "code",
   "execution_count": null,
   "id": "527d1282-b2c4-40bd-a0a1-66c956fe9bb0",
   "metadata": {},
   "outputs": [],
   "source": []
  }
 ],
 "metadata": {
  "kernelspec": {
   "display_name": "Python 3 (ipykernel)",
   "language": "python",
   "name": "python3"
  },
  "language_info": {
   "codemirror_mode": {
    "name": "ipython",
    "version": 3
   },
   "file_extension": ".py",
   "mimetype": "text/x-python",
   "name": "python",
   "nbconvert_exporter": "python",
   "pygments_lexer": "ipython3",
   "version": "3.12.8"
  }
 },
 "nbformat": 4,
 "nbformat_minor": 5
}

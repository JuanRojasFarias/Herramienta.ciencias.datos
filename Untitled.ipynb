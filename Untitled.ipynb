{
 "cells": [
  {
   "cell_type": "code",
   "execution_count": null,
   "id": "ff26ee23-e448-4d70-a48d-95782854e60e",
   "metadata": {},
   "outputs": [],
   "source": [
    "#1\n",
    "# Proyecto Final: Introducción a la Ciencia de Datos"
   ]
  },
  {
   "cell_type": "code",
   "execution_count": null,
   "id": "56debc49-4a18-42e7-81bb-2cc39185b718",
   "metadata": {},
   "outputs": [],
   "source": [
    "## Introducción  \n",
    "En este cuaderno se resumen herramientas y el ecosistema de la ciencia de datos, incluyendo lenguajes, bibliotecas y ejemplos prácticos."
   ]
  },
  {
   "cell_type": "code",
   "execution_count": null,
   "id": "803b4922-b9b2-46f3-b179-f4d370f92a67",
   "metadata": {},
   "outputs": [],
   "source": [
    "## Introducción  \n",
    "#En este cuaderno se resumen herramientas y el ecosistema de la ciencia de datos, incluyendo lenguajes, bibliotecas y ejemplos prácticos."
   ]
  },
  {
   "cell_type": "code",
   "execution_count": null,
   "id": "ad08c7c6-0d5c-4b3e-a168-f058a4152f6c",
   "metadata": {},
   "outputs": [],
   "source": [
    "## Lenguajes de Ciencia de Datos  \n",
    "Algunos de los lenguajes populares que utilizan los Científicos de Datos son:  \n",
    "- Python  \n",
    "- R  \n",
    "- SQL  \n",
    "- Julia  "
   ]
  },
  {
   "cell_type": "code",
   "execution_count": null,
   "id": "c093035d-67e8-4c05-8ed4-9bcf123bfbc5",
   "metadata": {},
   "outputs": [],
   "source": [
    "## Bibliotecas de Ciencia de Datos  \n",
    "Algunas de las bibliotecas de uso común utilizadas por los científicos de datos incluyen:  \n",
    "- Pandas  \n",
    "- Numpy  \n",
    "- Matplotlib\n",
    "- Seaborn\n",
    "- Scikit-learn\n",
    "- Keras\n",
    "- TensorFlow\n",
    "- PyTorch\n",
    "- Apache Spark\n",
    "- Vegas\n",
    "- Big DL\n",
    "- Ggplot2"
   ]
  },
  {
   "cell_type": "code",
   "execution_count": null,
   "id": "6fd03ad6-cbd4-42b8-8625-3e85e8cd8825",
   "metadata": {},
   "outputs": [],
   "source": []
  },
  {
   "cell_type": "code",
   "execution_count": null,
   "id": "7ebe1ce7-d7d6-4cfb-b6b6-0c0198e95a65",
   "metadata": {},
   "outputs": [],
   "source": []
  },
  {
   "cell_type": "code",
   "execution_count": null,
   "id": "3073bba6-a37b-4499-a1ae-6e41c0c80646",
   "metadata": {},
   "outputs": [],
   "source": []
  },
  {
   "cell_type": "code",
   "execution_count": null,
   "id": "321ae161-9a06-4449-a80c-60006d21f50c",
   "metadata": {},
   "outputs": [],
   "source": []
  },
  {
   "cell_type": "code",
   "execution_count": null,
   "id": "0d222858-47b5-4230-ab64-4b312040abd0",
   "metadata": {},
   "outputs": [],
   "source": []
  },
  {
   "cell_type": "code",
   "execution_count": null,
   "id": "18420a97-ee16-4e55-a4dc-2470a42b09b9",
   "metadata": {},
   "outputs": [],
   "source": []
  }
 ],
 "metadata": {
  "kernelspec": {
   "display_name": "Python 3 (ipykernel)",
   "language": "python",
   "name": "python3"
  },
  "language_info": {
   "codemirror_mode": {
    "name": "ipython",
    "version": 3
   },
   "file_extension": ".py",
   "mimetype": "text/x-python",
   "name": "python",
   "nbconvert_exporter": "python",
   "pygments_lexer": "ipython3",
   "version": "3.12.8"
  }
 },
 "nbformat": 4,
 "nbformat_minor": 5
}
